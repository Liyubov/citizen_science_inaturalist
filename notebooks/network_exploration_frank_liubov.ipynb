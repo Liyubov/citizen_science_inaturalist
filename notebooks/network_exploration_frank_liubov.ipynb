{
 "cells": [
  {
   "cell_type": "code",
   "execution_count": 1,
   "metadata": {},
   "outputs": [],
   "source": [
    "import numpy as np\n",
    "import pandas as pd\n",
    "import matplotlib.pyplot as plt\n",
    "import matplotlib as mpl\n",
    "mpl.rcParams['figure.dpi'] = 150\n",
    "import networkx as nx\n"
   ]
  },
  {
   "cell_type": "markdown",
   "metadata": {},
   "source": [
    "# Load data"
   ]
  },
  {
   "cell_type": "code",
   "execution_count": 2,
   "metadata": {},
   "outputs": [
    {
     "data": {
      "text/html": [
       "<div>\n",
       "<style scoped>\n",
       "    .dataframe tbody tr th:only-of-type {\n",
       "        vertical-align: middle;\n",
       "    }\n",
       "\n",
       "    .dataframe tbody tr th {\n",
       "        vertical-align: top;\n",
       "    }\n",
       "\n",
       "    .dataframe thead th {\n",
       "        text-align: right;\n",
       "    }\n",
       "</style>\n",
       "<table border=\"1\" class=\"dataframe\">\n",
       "  <thead>\n",
       "    <tr style=\"text-align: right;\">\n",
       "      <th></th>\n",
       "      <th>id</th>\n",
       "      <th>observed_on_string</th>\n",
       "      <th>observed_on</th>\n",
       "      <th>time_observed_at</th>\n",
       "      <th>time_zone</th>\n",
       "      <th>user_id</th>\n",
       "      <th>user_login</th>\n",
       "      <th>created_at</th>\n",
       "      <th>updated_at</th>\n",
       "      <th>quality_grade</th>\n",
       "      <th>...</th>\n",
       "      <th>geoprivacy</th>\n",
       "      <th>taxon_geoprivacy</th>\n",
       "      <th>coordinates_obscured</th>\n",
       "      <th>positioning_method</th>\n",
       "      <th>positioning_device</th>\n",
       "      <th>species_guess</th>\n",
       "      <th>scientific_name</th>\n",
       "      <th>common_name</th>\n",
       "      <th>iconic_taxon_name</th>\n",
       "      <th>taxon_id</th>\n",
       "    </tr>\n",
       "  </thead>\n",
       "  <tbody>\n",
       "    <tr>\n",
       "      <th>0</th>\n",
       "      <td>11479007</td>\n",
       "      <td>2018-04-27 7:52:34 am BST</td>\n",
       "      <td>2018-04-27</td>\n",
       "      <td>2018-04-27 07:52:34 UTC</td>\n",
       "      <td>UTC</td>\n",
       "      <td>159021</td>\n",
       "      <td>muki</td>\n",
       "      <td>2018-04-27 07:06:17 UTC</td>\n",
       "      <td>2018-04-27 09:26:56 UTC</td>\n",
       "      <td>research</td>\n",
       "      <td>...</td>\n",
       "      <td>NaN</td>\n",
       "      <td>NaN</td>\n",
       "      <td>False</td>\n",
       "      <td>gps</td>\n",
       "      <td>gps</td>\n",
       "      <td>lesser celandine</td>\n",
       "      <td>Ficaria verna</td>\n",
       "      <td>lesser celandine</td>\n",
       "      <td>Plantae</td>\n",
       "      <td>204321.0</td>\n",
       "    </tr>\n",
       "    <tr>\n",
       "      <th>1</th>\n",
       "      <td>11480212</td>\n",
       "      <td>2018-04-27 8:39:41 am BST</td>\n",
       "      <td>2018-04-27</td>\n",
       "      <td>2018-04-27 07:39:41 UTC</td>\n",
       "      <td>London</td>\n",
       "      <td>664459</td>\n",
       "      <td>lucyrobinsonnhm</td>\n",
       "      <td>2018-04-27 08:02:52 UTC</td>\n",
       "      <td>2019-01-29 21:16:34 UTC</td>\n",
       "      <td>research</td>\n",
       "      <td>...</td>\n",
       "      <td>NaN</td>\n",
       "      <td>open</td>\n",
       "      <td>False</td>\n",
       "      <td>gps</td>\n",
       "      <td>gps</td>\n",
       "      <td>Pigeon biset domestique</td>\n",
       "      <td>Columba livia domestica</td>\n",
       "      <td>Feral Pigeon</td>\n",
       "      <td>Aves</td>\n",
       "      <td>122767.0</td>\n",
       "    </tr>\n",
       "    <tr>\n",
       "      <th>2</th>\n",
       "      <td>11480902</td>\n",
       "      <td>Fri Apr 27 2018 08:34:31 GMT+0100 (GMT+1)</td>\n",
       "      <td>2018-04-27</td>\n",
       "      <td>2018-04-27 06:34:31 UTC</td>\n",
       "      <td>Amsterdam</td>\n",
       "      <td>908315</td>\n",
       "      <td>tess26</td>\n",
       "      <td>2018-04-27 08:42:01 UTC</td>\n",
       "      <td>2018-04-27 11:01:49 UTC</td>\n",
       "      <td>casual</td>\n",
       "      <td>...</td>\n",
       "      <td>NaN</td>\n",
       "      <td>NaN</td>\n",
       "      <td>False</td>\n",
       "      <td>NaN</td>\n",
       "      <td>NaN</td>\n",
       "      <td>NaN</td>\n",
       "      <td>Hyacinthoides hispanica</td>\n",
       "      <td>Spanish Bluebell</td>\n",
       "      <td>Plantae</td>\n",
       "      <td>57635.0</td>\n",
       "    </tr>\n",
       "    <tr>\n",
       "      <th>3</th>\n",
       "      <td>11481097</td>\n",
       "      <td>Fri Apr 27 2018 09:54:35 GMT+0100 (GMT+1)</td>\n",
       "      <td>2018-04-27</td>\n",
       "      <td>2018-04-27 07:54:35 UTC</td>\n",
       "      <td>Amsterdam</td>\n",
       "      <td>796473</td>\n",
       "      <td>bryonycross</td>\n",
       "      <td>2018-04-27 08:54:45 UTC</td>\n",
       "      <td>2018-04-27 20:23:41 UTC</td>\n",
       "      <td>research</td>\n",
       "      <td>...</td>\n",
       "      <td>NaN</td>\n",
       "      <td>NaN</td>\n",
       "      <td>False</td>\n",
       "      <td>NaN</td>\n",
       "      <td>NaN</td>\n",
       "      <td>Green Alkanet</td>\n",
       "      <td>Pentaglottis sempervirens</td>\n",
       "      <td>Green Alkanet</td>\n",
       "      <td>Plantae</td>\n",
       "      <td>166466.0</td>\n",
       "    </tr>\n",
       "    <tr>\n",
       "      <th>4</th>\n",
       "      <td>11482247</td>\n",
       "      <td>2018-04-27 8:42:21 am BST</td>\n",
       "      <td>2018-04-27</td>\n",
       "      <td>2018-04-27 07:42:21 UTC</td>\n",
       "      <td>London</td>\n",
       "      <td>664459</td>\n",
       "      <td>lucyrobinsonnhm</td>\n",
       "      <td>2018-04-27 10:09:55 UTC</td>\n",
       "      <td>2018-04-27 15:37:31 UTC</td>\n",
       "      <td>research</td>\n",
       "      <td>...</td>\n",
       "      <td>NaN</td>\n",
       "      <td>NaN</td>\n",
       "      <td>False</td>\n",
       "      <td>gps</td>\n",
       "      <td>gps</td>\n",
       "      <td>London Plane</td>\n",
       "      <td>Platanus × hispanica</td>\n",
       "      <td>London Plane</td>\n",
       "      <td>Plantae</td>\n",
       "      <td>552449.0</td>\n",
       "    </tr>\n",
       "  </tbody>\n",
       "</table>\n",
       "<p>5 rows × 34 columns</p>\n",
       "</div>"
      ],
      "text/plain": [
       "         id                         observed_on_string observed_on  \\\n",
       "0  11479007                  2018-04-27 7:52:34 am BST  2018-04-27   \n",
       "1  11480212                  2018-04-27 8:39:41 am BST  2018-04-27   \n",
       "2  11480902  Fri Apr 27 2018 08:34:31 GMT+0100 (GMT+1)  2018-04-27   \n",
       "3  11481097  Fri Apr 27 2018 09:54:35 GMT+0100 (GMT+1)  2018-04-27   \n",
       "4  11482247                  2018-04-27 8:42:21 am BST  2018-04-27   \n",
       "\n",
       "          time_observed_at  time_zone  user_id       user_login  \\\n",
       "0  2018-04-27 07:52:34 UTC        UTC   159021             muki   \n",
       "1  2018-04-27 07:39:41 UTC     London   664459  lucyrobinsonnhm   \n",
       "2  2018-04-27 06:34:31 UTC  Amsterdam   908315           tess26   \n",
       "3  2018-04-27 07:54:35 UTC  Amsterdam   796473      bryonycross   \n",
       "4  2018-04-27 07:42:21 UTC     London   664459  lucyrobinsonnhm   \n",
       "\n",
       "                created_at               updated_at quality_grade  ...  \\\n",
       "0  2018-04-27 07:06:17 UTC  2018-04-27 09:26:56 UTC      research  ...   \n",
       "1  2018-04-27 08:02:52 UTC  2019-01-29 21:16:34 UTC      research  ...   \n",
       "2  2018-04-27 08:42:01 UTC  2018-04-27 11:01:49 UTC        casual  ...   \n",
       "3  2018-04-27 08:54:45 UTC  2018-04-27 20:23:41 UTC      research  ...   \n",
       "4  2018-04-27 10:09:55 UTC  2018-04-27 15:37:31 UTC      research  ...   \n",
       "\n",
       "  geoprivacy taxon_geoprivacy coordinates_obscured  positioning_method  \\\n",
       "0        NaN              NaN                False                 gps   \n",
       "1        NaN             open                False                 gps   \n",
       "2        NaN              NaN                False                 NaN   \n",
       "3        NaN              NaN                False                 NaN   \n",
       "4        NaN              NaN                False                 gps   \n",
       "\n",
       "  positioning_device            species_guess            scientific_name  \\\n",
       "0                gps         lesser celandine              Ficaria verna   \n",
       "1                gps  Pigeon biset domestique    Columba livia domestica   \n",
       "2                NaN                      NaN    Hyacinthoides hispanica   \n",
       "3                NaN            Green Alkanet  Pentaglottis sempervirens   \n",
       "4                gps             London Plane       Platanus × hispanica   \n",
       "\n",
       "        common_name  iconic_taxon_name  taxon_id  \n",
       "0  lesser celandine            Plantae  204321.0  \n",
       "1      Feral Pigeon               Aves  122767.0  \n",
       "2  Spanish Bluebell            Plantae   57635.0  \n",
       "3     Green Alkanet            Plantae  166466.0  \n",
       "4      London Plane            Plantae  552449.0  \n",
       "\n",
       "[5 rows x 34 columns]"
      ]
     },
     "execution_count": 2,
     "metadata": {},
     "output_type": "execute_result"
    }
   ],
   "source": [
    "#df = pd.read_csv(\"../data/raw/observations_v2/CNC_Los_Angeles_2018.csv\")\n",
    "df =  pd.read_csv(\"data/CNC_London_2018.csv\")\n",
    "df.head()"
   ]
  },
  {
   "cell_type": "code",
   "execution_count": 3,
   "metadata": {},
   "outputs": [
    {
     "data": {
      "text/plain": [
       "Index(['id', 'observed_on_string', 'observed_on', 'time_observed_at',\n",
       "       'time_zone', 'user_id', 'user_login', 'created_at', 'updated_at',\n",
       "       'quality_grade', 'license', 'url', 'image_url', 'sound_url', 'tag_list',\n",
       "       'description', 'num_identification_agreements',\n",
       "       'num_identification_disagreements', 'captive_cultivated',\n",
       "       'oauth_application_id', 'place_guess', 'latitude', 'longitude',\n",
       "       'positional_accuracy', 'geoprivacy', 'taxon_geoprivacy',\n",
       "       'coordinates_obscured', 'positioning_method', 'positioning_device',\n",
       "       'species_guess', 'scientific_name', 'common_name', 'iconic_taxon_name',\n",
       "       'taxon_id'],\n",
       "      dtype='object')"
      ]
     },
     "execution_count": 3,
     "metadata": {},
     "output_type": "execute_result"
    }
   ],
   "source": [
    "df.columns"
   ]
  },
  {
   "cell_type": "code",
   "execution_count": 5,
   "metadata": {},
   "outputs": [],
   "source": [
    "# Convert identifications column (which is a string string) to object\n",
    "import ast\n",
    "#df['identifications'] = df['identifications'].apply(ast.literal_eval)\n",
    "#df['species_guess'] = df['species_guess'].apply(ast.literal_eval)\n",
    "\n"
   ]
  },
  {
   "cell_type": "markdown",
   "metadata": {},
   "source": [
    "# Analyse identifications\n",
    "\n",
    "Have values:\n",
    " - improving\n",
    " - supporting\n",
    " - leading\n",
    " - maverick"
   ]
  },
  {
   "cell_type": "code",
   "execution_count": 6,
   "metadata": {},
   "outputs": [
    {
     "ename": "KeyError",
     "evalue": "'identifications'",
     "output_type": "error",
     "traceback": [
      "\u001b[1;31m---------------------------------------------------------------------------\u001b[0m",
      "\u001b[1;31mKeyError\u001b[0m                                  Traceback (most recent call last)",
      "\u001b[1;32mc:\\users\\lyubo\\appdata\\local\\programs\\python\\python39\\lib\\site-packages\\pandas\\core\\indexes\\base.py\u001b[0m in \u001b[0;36mget_loc\u001b[1;34m(self, key, method, tolerance)\u001b[0m\n\u001b[0;32m   3079\u001b[0m             \u001b[1;32mtry\u001b[0m\u001b[1;33m:\u001b[0m\u001b[1;33m\u001b[0m\u001b[1;33m\u001b[0m\u001b[0m\n\u001b[1;32m-> 3080\u001b[1;33m                 \u001b[1;32mreturn\u001b[0m \u001b[0mself\u001b[0m\u001b[1;33m.\u001b[0m\u001b[0m_engine\u001b[0m\u001b[1;33m.\u001b[0m\u001b[0mget_loc\u001b[0m\u001b[1;33m(\u001b[0m\u001b[0mcasted_key\u001b[0m\u001b[1;33m)\u001b[0m\u001b[1;33m\u001b[0m\u001b[1;33m\u001b[0m\u001b[0m\n\u001b[0m\u001b[0;32m   3081\u001b[0m             \u001b[1;32mexcept\u001b[0m \u001b[0mKeyError\u001b[0m \u001b[1;32mas\u001b[0m \u001b[0merr\u001b[0m\u001b[1;33m:\u001b[0m\u001b[1;33m\u001b[0m\u001b[1;33m\u001b[0m\u001b[0m\n",
      "\u001b[1;32mpandas\\_libs\\index.pyx\u001b[0m in \u001b[0;36mpandas._libs.index.IndexEngine.get_loc\u001b[1;34m()\u001b[0m\n",
      "\u001b[1;32mpandas\\_libs\\index.pyx\u001b[0m in \u001b[0;36mpandas._libs.index.IndexEngine.get_loc\u001b[1;34m()\u001b[0m\n",
      "\u001b[1;32mpandas\\_libs\\hashtable_class_helper.pxi\u001b[0m in \u001b[0;36mpandas._libs.hashtable.PyObjectHashTable.get_item\u001b[1;34m()\u001b[0m\n",
      "\u001b[1;32mpandas\\_libs\\hashtable_class_helper.pxi\u001b[0m in \u001b[0;36mpandas._libs.hashtable.PyObjectHashTable.get_item\u001b[1;34m()\u001b[0m\n",
      "\u001b[1;31mKeyError\u001b[0m: 'identifications'",
      "\nThe above exception was the direct cause of the following exception:\n",
      "\u001b[1;31mKeyError\u001b[0m                                  Traceback (most recent call last)",
      "\u001b[1;32m<ipython-input-6-4465bd29b2f3>\u001b[0m in \u001b[0;36m<module>\u001b[1;34m\u001b[0m\n\u001b[0;32m      1\u001b[0m \u001b[0midentifications\u001b[0m \u001b[1;33m=\u001b[0m \u001b[1;33m[\u001b[0m\u001b[1;33m]\u001b[0m\u001b[1;33m\u001b[0m\u001b[1;33m\u001b[0m\u001b[0m\n\u001b[0;32m      2\u001b[0m \u001b[1;32mfor\u001b[0m \u001b[0m_\u001b[0m\u001b[1;33m,\u001b[0m \u001b[0mrow\u001b[0m \u001b[1;32min\u001b[0m \u001b[0mdf\u001b[0m\u001b[1;33m.\u001b[0m\u001b[0miterrows\u001b[0m\u001b[1;33m(\u001b[0m\u001b[1;33m)\u001b[0m\u001b[1;33m:\u001b[0m\u001b[1;33m\u001b[0m\u001b[1;33m\u001b[0m\u001b[0m\n\u001b[1;32m----> 3\u001b[1;33m     \u001b[0midents\u001b[0m \u001b[1;33m=\u001b[0m \u001b[0mrow\u001b[0m\u001b[1;33m[\u001b[0m\u001b[1;34m'identifications'\u001b[0m\u001b[1;33m]\u001b[0m\u001b[1;33m\u001b[0m\u001b[1;33m\u001b[0m\u001b[0m\n\u001b[0m\u001b[0;32m      4\u001b[0m     \u001b[1;32mfor\u001b[0m \u001b[0mident\u001b[0m \u001b[1;32min\u001b[0m \u001b[0midents\u001b[0m\u001b[1;33m:\u001b[0m\u001b[1;33m\u001b[0m\u001b[1;33m\u001b[0m\u001b[0m\n\u001b[0;32m      5\u001b[0m         \u001b[0midentifications\u001b[0m\u001b[1;33m.\u001b[0m\u001b[0mappend\u001b[0m\u001b[1;33m(\u001b[0m\u001b[0mident\u001b[0m\u001b[1;33m)\u001b[0m\u001b[1;33m\u001b[0m\u001b[1;33m\u001b[0m\u001b[0m\n",
      "\u001b[1;32mc:\\users\\lyubo\\appdata\\local\\programs\\python\\python39\\lib\\site-packages\\pandas\\core\\series.py\u001b[0m in \u001b[0;36m__getitem__\u001b[1;34m(self, key)\u001b[0m\n\u001b[0;32m    851\u001b[0m \u001b[1;33m\u001b[0m\u001b[0m\n\u001b[0;32m    852\u001b[0m         \u001b[1;32melif\u001b[0m \u001b[0mkey_is_scalar\u001b[0m\u001b[1;33m:\u001b[0m\u001b[1;33m\u001b[0m\u001b[1;33m\u001b[0m\u001b[0m\n\u001b[1;32m--> 853\u001b[1;33m             \u001b[1;32mreturn\u001b[0m \u001b[0mself\u001b[0m\u001b[1;33m.\u001b[0m\u001b[0m_get_value\u001b[0m\u001b[1;33m(\u001b[0m\u001b[0mkey\u001b[0m\u001b[1;33m)\u001b[0m\u001b[1;33m\u001b[0m\u001b[1;33m\u001b[0m\u001b[0m\n\u001b[0m\u001b[0;32m    854\u001b[0m \u001b[1;33m\u001b[0m\u001b[0m\n\u001b[0;32m    855\u001b[0m         \u001b[1;32mif\u001b[0m \u001b[0mis_hashable\u001b[0m\u001b[1;33m(\u001b[0m\u001b[0mkey\u001b[0m\u001b[1;33m)\u001b[0m\u001b[1;33m:\u001b[0m\u001b[1;33m\u001b[0m\u001b[1;33m\u001b[0m\u001b[0m\n",
      "\u001b[1;32mc:\\users\\lyubo\\appdata\\local\\programs\\python\\python39\\lib\\site-packages\\pandas\\core\\series.py\u001b[0m in \u001b[0;36m_get_value\u001b[1;34m(self, label, takeable)\u001b[0m\n\u001b[0;32m    959\u001b[0m \u001b[1;33m\u001b[0m\u001b[0m\n\u001b[0;32m    960\u001b[0m         \u001b[1;31m# Similar to Index.get_value, but we do not fall back to positional\u001b[0m\u001b[1;33m\u001b[0m\u001b[1;33m\u001b[0m\u001b[1;33m\u001b[0m\u001b[0m\n\u001b[1;32m--> 961\u001b[1;33m         \u001b[0mloc\u001b[0m \u001b[1;33m=\u001b[0m \u001b[0mself\u001b[0m\u001b[1;33m.\u001b[0m\u001b[0mindex\u001b[0m\u001b[1;33m.\u001b[0m\u001b[0mget_loc\u001b[0m\u001b[1;33m(\u001b[0m\u001b[0mlabel\u001b[0m\u001b[1;33m)\u001b[0m\u001b[1;33m\u001b[0m\u001b[1;33m\u001b[0m\u001b[0m\n\u001b[0m\u001b[0;32m    962\u001b[0m         \u001b[1;32mreturn\u001b[0m \u001b[0mself\u001b[0m\u001b[1;33m.\u001b[0m\u001b[0mindex\u001b[0m\u001b[1;33m.\u001b[0m\u001b[0m_get_values_for_loc\u001b[0m\u001b[1;33m(\u001b[0m\u001b[0mself\u001b[0m\u001b[1;33m,\u001b[0m \u001b[0mloc\u001b[0m\u001b[1;33m,\u001b[0m \u001b[0mlabel\u001b[0m\u001b[1;33m)\u001b[0m\u001b[1;33m\u001b[0m\u001b[1;33m\u001b[0m\u001b[0m\n\u001b[0;32m    963\u001b[0m \u001b[1;33m\u001b[0m\u001b[0m\n",
      "\u001b[1;32mc:\\users\\lyubo\\appdata\\local\\programs\\python\\python39\\lib\\site-packages\\pandas\\core\\indexes\\base.py\u001b[0m in \u001b[0;36mget_loc\u001b[1;34m(self, key, method, tolerance)\u001b[0m\n\u001b[0;32m   3080\u001b[0m                 \u001b[1;32mreturn\u001b[0m \u001b[0mself\u001b[0m\u001b[1;33m.\u001b[0m\u001b[0m_engine\u001b[0m\u001b[1;33m.\u001b[0m\u001b[0mget_loc\u001b[0m\u001b[1;33m(\u001b[0m\u001b[0mcasted_key\u001b[0m\u001b[1;33m)\u001b[0m\u001b[1;33m\u001b[0m\u001b[1;33m\u001b[0m\u001b[0m\n\u001b[0;32m   3081\u001b[0m             \u001b[1;32mexcept\u001b[0m \u001b[0mKeyError\u001b[0m \u001b[1;32mas\u001b[0m \u001b[0merr\u001b[0m\u001b[1;33m:\u001b[0m\u001b[1;33m\u001b[0m\u001b[1;33m\u001b[0m\u001b[0m\n\u001b[1;32m-> 3082\u001b[1;33m                 \u001b[1;32mraise\u001b[0m \u001b[0mKeyError\u001b[0m\u001b[1;33m(\u001b[0m\u001b[0mkey\u001b[0m\u001b[1;33m)\u001b[0m \u001b[1;32mfrom\u001b[0m \u001b[0merr\u001b[0m\u001b[1;33m\u001b[0m\u001b[1;33m\u001b[0m\u001b[0m\n\u001b[0m\u001b[0;32m   3083\u001b[0m \u001b[1;33m\u001b[0m\u001b[0m\n\u001b[0;32m   3084\u001b[0m         \u001b[1;32mif\u001b[0m \u001b[0mtolerance\u001b[0m \u001b[1;32mis\u001b[0m \u001b[1;32mnot\u001b[0m \u001b[1;32mNone\u001b[0m\u001b[1;33m:\u001b[0m\u001b[1;33m\u001b[0m\u001b[1;33m\u001b[0m\u001b[0m\n",
      "\u001b[1;31mKeyError\u001b[0m: 'identifications'"
     ]
    }
   ],
   "source": [
    "identifications = []\n",
    "for _, row in df.iterrows():\n",
    "    idents = row['identifications']\n",
    "    for ident in idents:\n",
    "        identifications.append(ident)\n",
    "        "
   ]
  },
  {
   "cell_type": "code",
   "execution_count": 21,
   "metadata": {},
   "outputs": [
    {
     "data": {
      "text/html": [
       "<div>\n",
       "<style scoped>\n",
       "    .dataframe tbody tr th:only-of-type {\n",
       "        vertical-align: middle;\n",
       "    }\n",
       "\n",
       "    .dataframe tbody tr th {\n",
       "        vertical-align: top;\n",
       "    }\n",
       "\n",
       "    .dataframe thead th {\n",
       "        text-align: right;\n",
       "    }\n",
       "</style>\n",
       "<table border=\"1\" class=\"dataframe\">\n",
       "  <thead>\n",
       "    <tr style=\"text-align: right;\">\n",
       "      <th></th>\n",
       "      <th>user_id</th>\n",
       "      <th>category</th>\n",
       "      <th>disagreement</th>\n",
       "    </tr>\n",
       "  </thead>\n",
       "  <tbody>\n",
       "    <tr>\n",
       "      <th>0</th>\n",
       "      <td>181940</td>\n",
       "      <td>supporting</td>\n",
       "      <td>False</td>\n",
       "    </tr>\n",
       "    <tr>\n",
       "      <th>1</th>\n",
       "      <td>630902</td>\n",
       "      <td>improving</td>\n",
       "      <td>None</td>\n",
       "    </tr>\n",
       "    <tr>\n",
       "      <th>2</th>\n",
       "      <td>240872</td>\n",
       "      <td>improving</td>\n",
       "      <td>None</td>\n",
       "    </tr>\n",
       "    <tr>\n",
       "      <th>3</th>\n",
       "      <td>805798</td>\n",
       "      <td>leading</td>\n",
       "      <td>False</td>\n",
       "    </tr>\n",
       "    <tr>\n",
       "      <th>4</th>\n",
       "      <td>630902</td>\n",
       "      <td>improving</td>\n",
       "      <td>None</td>\n",
       "    </tr>\n",
       "  </tbody>\n",
       "</table>\n",
       "</div>"
      ],
      "text/plain": [
       "   user_id    category disagreement\n",
       "0   181940  supporting        False\n",
       "1   630902   improving         None\n",
       "2   240872   improving         None\n",
       "3   805798     leading        False\n",
       "4   630902   improving         None"
      ]
     },
     "execution_count": 21,
     "metadata": {},
     "output_type": "execute_result"
    }
   ],
   "source": [
    "dfidents = pd.DataFrame(identifications)\n",
    "dfidents.head()"
   ]
  },
  {
   "cell_type": "code",
   "execution_count": 28,
   "metadata": {},
   "outputs": [
    {
     "data": {
      "image/png": "[encoded data removed]",
      "text/plain": [
       "<Figure size 600x420 with 1 Axes>"
      ]
     },
     "metadata": {
      "needs_background": "light"
     },
     "output_type": "display_data"
    }
   ],
   "source": [
    "fig = plt.figure(figsize=(4,2.8))\n",
    "ident_counts = dfidents['category'].value_counts()\n",
    "ident_counts.plot(kind='bar')\n",
    "plt.show()"
   ]
  },
  {
   "cell_type": "markdown",
   "metadata": {},
   "source": [
    "# Convert to network\n",
    "\n"
   ]
  },
  {
   "cell_type": "markdown",
   "metadata": {},
   "source": [
    "## Gather edges"
   ]
  },
  {
   "cell_type": "code",
   "execution_count": 91,
   "metadata": {},
   "outputs": [
    {
     "data": {
      "text/html": [
       "<div>\n",
       "<style scoped>\n",
       "    .dataframe tbody tr th:only-of-type {\n",
       "        vertical-align: middle;\n",
       "    }\n",
       "\n",
       "    .dataframe tbody tr th {\n",
       "        vertical-align: top;\n",
       "    }\n",
       "\n",
       "    .dataframe thead th {\n",
       "        text-align: right;\n",
       "    }\n",
       "</style>\n",
       "<table border=\"1\" class=\"dataframe\">\n",
       "  <thead>\n",
       "    <tr style=\"text-align: right;\">\n",
       "      <th></th>\n",
       "      <th>source</th>\n",
       "      <th>target</th>\n",
       "      <th>weight</th>\n",
       "    </tr>\n",
       "  </thead>\n",
       "  <tbody>\n",
       "    <tr>\n",
       "      <th>0</th>\n",
       "      <td>1</td>\n",
       "      <td>12809</td>\n",
       "      <td>3</td>\n",
       "    </tr>\n",
       "    <tr>\n",
       "      <th>1</th>\n",
       "      <td>1</td>\n",
       "      <td>35725</td>\n",
       "      <td>1</td>\n",
       "    </tr>\n",
       "    <tr>\n",
       "      <th>2</th>\n",
       "      <td>1</td>\n",
       "      <td>37802</td>\n",
       "      <td>2</td>\n",
       "    </tr>\n",
       "    <tr>\n",
       "      <th>3</th>\n",
       "      <td>1</td>\n",
       "      <td>73504</td>\n",
       "      <td>2</td>\n",
       "    </tr>\n",
       "    <tr>\n",
       "      <th>4</th>\n",
       "      <td>1</td>\n",
       "      <td>74669</td>\n",
       "      <td>1</td>\n",
       "    </tr>\n",
       "  </tbody>\n",
       "</table>\n",
       "</div>"
      ],
      "text/plain": [
       "   source  target  weight\n",
       "0       1   12809       3\n",
       "1       1   35725       1\n",
       "2       1   37802       2\n",
       "3       1   73504       2\n",
       "4       1   74669       1"
      ]
     },
     "execution_count": 91,
     "metadata": {},
     "output_type": "execute_result"
    }
   ],
   "source": [
    "edges_list = []\n",
    "for _, row in df.iterrows():\n",
    "    idents = row['identifications']\n",
    "    user_target = row['user_id']\n",
    "    for ident in idents:\n",
    "#         if ident['category'] in ['supporting', 'improving']\n",
    "        user_source = ident['user_id']\n",
    "        edges_list.append([user_source, user_target])\n",
    "\n",
    "edges = pd.DataFrame(edges_list, columns=['source', 'target'])\n",
    "edges = edges.convert_dtypes()\n",
    "edges['weight'] = 1\n",
    "edges = edges.groupby(by=['source', 'target']).sum().reset_index()\n",
    "edges.head()"
   ]
  },
  {
   "cell_type": "code",
   "execution_count": 92,
   "metadata": {},
   "outputs": [
    {
     "name": "stdout",
     "output_type": "stream",
     "text": [
      "<class 'pandas.core.frame.DataFrame'>\n",
      "RangeIndex: 9589 entries, 0 to 9588\n",
      "Data columns (total 3 columns):\n",
      " #   Column  Non-Null Count  Dtype\n",
      "---  ------  --------------  -----\n",
      " 0   source  9589 non-null   int64\n",
      " 1   target  9589 non-null   int64\n",
      " 2   weight  9589 non-null   int64\n",
      "dtypes: int64(3)\n",
      "memory usage: 224.9 KB\n"
     ]
    }
   ],
   "source": [
    "edges.info()"
   ]
  },
  {
   "cell_type": "code",
   "execution_count": 94,
   "metadata": {},
   "outputs": [
    {
     "data": {
      "text/plain": [
       "1699"
      ]
     },
     "execution_count": 94,
     "metadata": {},
     "output_type": "execute_result"
    }
   ],
   "source": [
    "edges['weight'].max()"
   ]
  },
  {
   "cell_type": "markdown",
   "metadata": {},
   "source": [
    "**Edge distribution**"
   ]
  },
  {
   "cell_type": "code",
   "execution_count": 99,
   "metadata": {},
   "outputs": [
    {
     "data": {
      "image/png": "[encoded data removed]",
      "text/plain": [
       "<Figure size 900x600 with 1 Axes>"
      ]
     },
     "metadata": {
      "needs_background": "light"
     },
     "output_type": "display_data"
    }
   ],
   "source": [
    "bins = np.linspace(0, 1700, 1700+1)\n",
    "plt.hist(edges['weight'], bins=bins)\n",
    "plt.xlim([0,20])\n",
    "plt.yscale('log')\n",
    "plt.show()"
   ]
  },
  {
   "cell_type": "markdown",
   "metadata": {},
   "source": [
    "## Create network from edgelist"
   ]
  },
  {
   "cell_type": "code",
   "execution_count": 100,
   "metadata": {},
   "outputs": [],
   "source": [
    "g = nx.from_pandas_edgelist(edges, source='source', target='target', edge_attr='weight', create_using=nx.DiGraph)"
   ]
  },
  {
   "cell_type": "code",
   "execution_count": 82,
   "metadata": {
    "scrolled": true
   },
   "outputs": [
    {
     "data": {
      "image/png": "[encoded data removed]",
      "text/plain": [
       "<Figure size 900x600 with 1 Axes>"
      ]
     },
     "metadata": {},
     "output_type": "display_data"
    }
   ],
   "source": [
    "nx.draw(g.to_undirected())"
   ]
  },
  {
   "cell_type": "code",
   "execution_count": null,
   "metadata": {},
   "outputs": [],
   "source": [
    "import networkx as nx\n",
    "from netwulf import visualize\n",
    "\n",
    "# G = nx.barabasi_albert_graph(100,m=1)\n",
    "visualize(g)"
   ]
  },
  {
   "cell_type": "code",
   "execution_count": null,
   "metadata": {},
   "outputs": [],
   "source": []
  }
 ],
 "metadata": {
  "hide_input": false,
  "kernelspec": {
   "display_name": "Python 3",
   "language": "python",
   "name": "python3"
  },
  "language_info": {
   "codemirror_mode": {
    "name": "ipython",
    "version": 3
   },
   "file_extension": ".py",
   "mimetype": "text/x-python",
   "name": "python",
   "nbconvert_exporter": "python",
   "pygments_lexer": "ipython3",
   "version": "3.9.2"
  },
  "toc": {
   "base_numbering": 1,
   "nav_menu": {},
   "number_sections": true,
   "sideBar": true,
   "skip_h1_title": false,
   "title_cell": "Table of Contents",
   "title_sidebar": "Contents",
   "toc_cell": false,
   "toc_position": {},
   "toc_section_display": true,
   "toc_window_display": false
  }
 },
 "nbformat": 4,
 "nbformat_minor": 4
}
